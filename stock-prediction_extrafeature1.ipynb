{
 "cells": [
  {
   "cell_type": "markdown",
   "metadata": {},
   "source": [
    "## extra feature - 1) best N value 2) Keras Wrapper"
   ]
  },
  {
   "cell_type": "code",
   "execution_count": 1,
   "metadata": {},
   "outputs": [
    {
     "name": "stderr",
     "output_type": "stream",
     "text": [
      "Using TensorFlow backend.\n"
     ]
    }
   ],
   "source": [
    "import seaborn as sns\n",
    "import os\n",
    "import pandas as pd\n",
    "import matplotlib.pyplot as plt\n",
    "from scipy.stats import zscore\n",
    "from sklearn.linear_model import LogisticRegression\n",
    "from sklearn.preprocessing import LabelEncoder\n",
    "from sklearn import metrics\n",
    "from sklearn.ensemble import ExtraTreesClassifier\n",
    "import csv\n",
    "import numpy as np\n",
    "from scipy.stats import zscore\n",
    "from sklearn.model_selection import train_test_split\n",
    "from sklearn import datasets,linear_model, preprocessing,utils\n",
    "from sklearn.metrics import mean_squared_error,r2_score\n",
    "from sklearn.preprocessing import LabelEncoder\n",
    "import matplotlib.pyplot as plt \n",
    "from sklearn.linear_model import LogisticRegression\n",
    "from sklearn.metrics import f1_score\n",
    "from sklearn.neighbors import KNeighborsClassifier\n",
    "%matplotlib inline\n",
    "from sklearn import svm\n",
    "from sklearn.naive_bayes import MultinomialNB\n",
    "from sklearn.preprocessing import MinMaxScaler\n",
    "%matplotlib inline\n",
    "from matplotlib.pyplot import figure, show\n",
    "from sklearn.metrics import f1_score\n",
    "from sklearn.metrics import accuracy_score\n",
    "from sklearn import metrics\n",
    "from sklearn.metrics import confusion_matrix, classification_report\n",
    "from sklearn.metrics import roc_curve, auc\n",
    "from sklearn.naive_bayes import GaussianNB\n",
    "\n",
    "from keras.layers import Conv1D, Conv2D, MaxPooling2D \n",
    "from sklearn.ensemble import RandomForestClassifier\n",
    "from sklearn import datasets\n",
    "import numpy as np\n",
    "import matplotlib.pyplot as plt\n",
    "from matplotlib import pyplot\n",
    "import keras\n",
    "from keras.callbacks import ModelCheckpoint\n",
    "from keras.callbacks import EarlyStopping\n",
    "from keras.models import Sequential\n",
    "from keras.layers.core import Dense, Activation, Flatten ,Dropout\n",
    "\n",
    "from keras.preprocessing import sequence\n",
    "from keras.models import Sequential\n",
    "from keras.layers import Dense, Embedding\n",
    "from keras.layers import LSTM\n",
    "from keras.datasets import imdb\n",
    "from keras.callbacks import EarlyStopping\n",
    "import numpy as np\n",
    "from keras.layers import Bidirectional\n",
    "\n"
   ]
  },
  {
   "cell_type": "code",
   "execution_count": null,
   "metadata": {
    "collapsed": true
   },
   "outputs": [],
   "source": []
  },
  {
   "cell_type": "code",
   "execution_count": 2,
   "metadata": {
    "collapsed": true
   },
   "outputs": [],
   "source": [
    "# Regression chart.\n",
    "def chart_regression(pred,y,sort=True):\n",
    "    t = pd.DataFrame({'pred' : pred, 'y' : y.flatten()})\n",
    "    if sort:\n",
    "        t.sort_values(by=['y'],inplace=True)\n",
    "    a = plt.plot(t['y'].tolist(),label='expected')\n",
    "    b = plt.plot(t['pred'].tolist(),label='prediction')\n",
    "    plt.ylabel('output')\n",
    "    plt.legend()\n",
    "    plt.show()"
   ]
  },
  {
   "cell_type": "code",
   "execution_count": 3,
   "metadata": {
    "collapsed": true
   },
   "outputs": [],
   "source": [
    "import numpy as np\n",
    "\n",
    "def to_sequences(seq_size,data,close):\n",
    "    x = []\n",
    "    y = []\n",
    "\n",
    "    for i in range(len(data)-seq_size-1):\n",
    "        #print(i)\n",
    "        window = data[i:(i+seq_size)]\n",
    "        #print(window)\n",
    "        after_window = close[i+seq_size]\n",
    "        #print(after_window)\n",
    "        #after_window = after_window[4]\n",
    "        window = [[x] for x in window]\n",
    "        #print(\"{} - {}\".format(window,after_window))\n",
    "        x.append(window)\n",
    "        y.append(after_window)\n",
    "        \n",
    "    return np.array(x),np.array(y)"
   ]
  },
  {
   "cell_type": "markdown",
   "metadata": {},
   "source": [
    "## Read Stock_Price.csv file"
   ]
  },
  {
   "cell_type": "code",
   "execution_count": 5,
   "metadata": {
    "collapsed": true
   },
   "outputs": [],
   "source": [
    "df_LSTM = pd.read_csv(\"CSC215_Project4_Stock_Price.csv\")"
   ]
  },
  {
   "cell_type": "code",
   "execution_count": 6,
   "metadata": {},
   "outputs": [
    {
     "data": {
      "text/plain": [
       "(4392, 7)"
      ]
     },
     "execution_count": 6,
     "metadata": {},
     "output_type": "execute_result"
    }
   ],
   "source": [
    "df_LSTM.shape"
   ]
  },
  {
   "cell_type": "code",
   "execution_count": 8,
   "metadata": {
    "collapsed": true
   },
   "outputs": [],
   "source": [
    "df_LSTM_new =df_LSTM"
   ]
  },
  {
   "cell_type": "code",
   "execution_count": 9,
   "metadata": {},
   "outputs": [
    {
     "data": {
      "text/html": [
       "<div>\n",
       "<style>\n",
       "    .dataframe thead tr:only-child th {\n",
       "        text-align: right;\n",
       "    }\n",
       "\n",
       "    .dataframe thead th {\n",
       "        text-align: left;\n",
       "    }\n",
       "\n",
       "    .dataframe tbody tr th {\n",
       "        vertical-align: top;\n",
       "    }\n",
       "</style>\n",
       "<table border=\"1\" class=\"dataframe\">\n",
       "  <thead>\n",
       "    <tr style=\"text-align: right;\">\n",
       "      <th></th>\n",
       "      <th>Open</th>\n",
       "      <th>High</th>\n",
       "      <th>Low</th>\n",
       "      <th>Close</th>\n",
       "      <th>Volume</th>\n",
       "    </tr>\n",
       "  </thead>\n",
       "  <tbody>\n",
       "    <tr>\n",
       "      <th>0</th>\n",
       "      <td>3.812500</td>\n",
       "      <td>4.156250</td>\n",
       "      <td>3.812500</td>\n",
       "      <td>4.125000</td>\n",
       "      <td>3675600</td>\n",
       "    </tr>\n",
       "    <tr>\n",
       "      <th>1</th>\n",
       "      <td>4.125000</td>\n",
       "      <td>4.125000</td>\n",
       "      <td>4.000000</td>\n",
       "      <td>4.015625</td>\n",
       "      <td>1077600</td>\n",
       "    </tr>\n",
       "    <tr>\n",
       "      <th>2</th>\n",
       "      <td>4.000000</td>\n",
       "      <td>4.031250</td>\n",
       "      <td>3.953125</td>\n",
       "      <td>4.000000</td>\n",
       "      <td>437200</td>\n",
       "    </tr>\n",
       "    <tr>\n",
       "      <th>3</th>\n",
       "      <td>4.000000</td>\n",
       "      <td>4.000000</td>\n",
       "      <td>3.843750</td>\n",
       "      <td>3.843750</td>\n",
       "      <td>1883600</td>\n",
       "    </tr>\n",
       "    <tr>\n",
       "      <th>4</th>\n",
       "      <td>3.734375</td>\n",
       "      <td>3.734375</td>\n",
       "      <td>3.390625</td>\n",
       "      <td>3.390625</td>\n",
       "      <td>7931600</td>\n",
       "    </tr>\n",
       "  </tbody>\n",
       "</table>\n",
       "</div>"
      ],
      "text/plain": [
       "       Open      High       Low     Close   Volume\n",
       "0  3.812500  4.156250  3.812500  4.125000  3675600\n",
       "1  4.125000  4.125000  4.000000  4.015625  1077600\n",
       "2  4.000000  4.031250  3.953125  4.000000   437200\n",
       "3  4.000000  4.000000  3.843750  3.843750  1883600\n",
       "4  3.734375  3.734375  3.390625  3.390625  7931600"
      ]
     },
     "execution_count": 9,
     "metadata": {},
     "output_type": "execute_result"
    }
   ],
   "source": [
    "df_LSTM_new=df_LSTM_new.drop(['Date', 'Adj_Close'], axis=1)\n",
    "df_LSTM_new.head()"
   ]
  },
  {
   "cell_type": "code",
   "execution_count": 10,
   "metadata": {},
   "outputs": [
    {
     "data": {
      "text/plain": [
       "(4392, 5)"
      ]
     },
     "execution_count": 10,
     "metadata": {},
     "output_type": "execute_result"
    }
   ],
   "source": [
    "df_LSTM_new.shape"
   ]
  },
  {
   "cell_type": "code",
   "execution_count": 11,
   "metadata": {
    "collapsed": true
   },
   "outputs": [],
   "source": [
    "df_close_lstm = df_LSTM_new['Close']"
   ]
  },
  {
   "cell_type": "code",
   "execution_count": 12,
   "metadata": {},
   "outputs": [
    {
     "name": "stderr",
     "output_type": "stream",
     "text": [
      "/anaconda3/lib/python3.6/site-packages/sklearn/preprocessing/data.py:334: DataConversionWarning: Data with input dtype int64, float64 were all converted to float64 by MinMaxScaler.\n",
      "  return self.partial_fit(X, y)\n"
     ]
    }
   ],
   "source": [
    "scaler = MinMaxScaler(feature_range=(0,1))\n",
    "df_LSTM_new = scaler.fit_transform(df_LSTM_new)"
   ]
  },
  {
   "cell_type": "code",
   "execution_count": 13,
   "metadata": {},
   "outputs": [
    {
     "name": "stdout",
     "output_type": "stream",
     "text": [
      "3074\n",
      "1318\n"
     ]
    }
   ],
   "source": [
    "#x 70-30\n",
    "percent70 = int(len(df_LSTM_new)* 0.70)\n",
    "percent30 = len(df_LSTM_new) - percent70\n",
    "print(percent70)\n",
    "print(percent30)"
   ]
  },
  {
   "cell_type": "code",
   "execution_count": 14,
   "metadata": {},
   "outputs": [
    {
     "name": "stdout",
     "output_type": "stream",
     "text": [
      "(3074, 5)\n",
      "(1318, 5)\n"
     ]
    }
   ],
   "source": [
    "train = df_LSTM_new[0:percent70]\n",
    "test = df_LSTM_new[percent70:len(df_LSTM_new)]\n",
    "\n",
    "print(train.shape)\n",
    "print(test.shape)\n",
    "\n"
   ]
  },
  {
   "cell_type": "code",
   "execution_count": 15,
   "metadata": {},
   "outputs": [
    {
     "name": "stdout",
     "output_type": "stream",
     "text": [
      "(3074,)\n",
      "(1318,)\n"
     ]
    }
   ],
   "source": [
    "train_close = df_close_lstm[0:percent70].values\n",
    "test_close =  df_close_lstm[percent70:len(df_close_lstm)].values\n",
    "print(train_close.shape)\n",
    "print(test_close.shape)"
   ]
  },
  {
   "cell_type": "code",
   "execution_count": 63,
   "metadata": {},
   "outputs": [
    {
     "name": "stdout",
     "output_type": "stream",
     "text": [
      "Shape of x_train: (3068, 5, 1, 5)\n",
      "Shape of x_test: (1312, 5, 1, 5)\n",
      "Shape of y_train: (3068,)\n",
      "Shape of y_test: (1312,)\n"
     ]
    }
   ],
   "source": [
    "SEQUENCE_SIZE = 5\n",
    "\n",
    "#print(x_train[0:2])\n",
    "#print(\"Shape of x_train: {}\".format(x_train.shape))\n",
    "x_train,y_train = to_sequences(SEQUENCE_SIZE,train,train_close)\n",
    "x_test,y_test = to_sequences(SEQUENCE_SIZE,test,test_close)\n",
    "\n",
    "print(\"Shape of x_train: {}\".format(x_train.shape))\n",
    "print(\"Shape of x_test: {}\".format(x_test.shape))\n",
    "print(\"Shape of y_train: {}\".format(y_train.shape))\n",
    "print(\"Shape of y_test: {}\".format(y_test.shape))"
   ]
  },
  {
   "cell_type": "code",
   "execution_count": 64,
   "metadata": {
    "collapsed": true
   },
   "outputs": [],
   "source": [
    "x_train = np.reshape(x_train,(x_train.shape[0],x_train.shape[1],x_train.shape[3]))\n",
    "x_test = np.reshape(x_test,(x_test.shape[0],x_test.shape[1],x_test.shape[3]))"
   ]
  },
  {
   "cell_type": "code",
   "execution_count": 65,
   "metadata": {},
   "outputs": [
    {
     "data": {
      "text/plain": [
       "(3068, 5, 5)"
      ]
     },
     "execution_count": 65,
     "metadata": {},
     "output_type": "execute_result"
    }
   ],
   "source": [
    "x_train.shape"
   ]
  },
  {
   "cell_type": "code",
   "execution_count": 66,
   "metadata": {},
   "outputs": [
    {
     "data": {
      "text/plain": [
       "(3068,)"
      ]
     },
     "execution_count": 66,
     "metadata": {},
     "output_type": "execute_result"
    }
   ],
   "source": [
    "y_train.shape"
   ]
  },
  {
   "cell_type": "code",
   "execution_count": 67,
   "metadata": {
    "collapsed": true
   },
   "outputs": [],
   "source": [
    "checkpointer_lstm = ModelCheckpoint(filepath=\"./best_weights_lstm.hdf5\", verbose=1, save_best_only=True)"
   ]
  },
  {
   "cell_type": "code",
   "execution_count": 68,
   "metadata": {},
   "outputs": [
    {
     "name": "stdout",
     "output_type": "stream",
     "text": [
      "0\n",
      "Build model...\n",
      "Train...\n",
      "Train on 3068 samples, validate on 1312 samples\n",
      "Epoch 1/10\n",
      " - 4s - loss: 198.2217 - val_loss: 3401.5812\n",
      "\n",
      "Epoch 00001: val_loss improved from inf to 3401.58123, saving model to ./best_weights_lstm.hdf5\n",
      "Epoch 2/10\n",
      " - 1s - loss: 17.9698 - val_loss: 2490.8561\n",
      "\n",
      "Epoch 00002: val_loss improved from 3401.58123 to 2490.85609, saving model to ./best_weights_lstm.hdf5\n",
      "Epoch 3/10\n",
      " - 1s - loss: 11.2833 - val_loss: 2184.5674\n",
      "\n",
      "Epoch 00003: val_loss improved from 2490.85609 to 2184.56738, saving model to ./best_weights_lstm.hdf5\n",
      "Epoch 4/10\n",
      " - 1s - loss: 7.4186 - val_loss: 767.3777\n",
      "\n",
      "Epoch 00004: val_loss improved from 2184.56738 to 767.37766, saving model to ./best_weights_lstm.hdf5\n",
      "Epoch 5/10\n",
      " - 1s - loss: 5.3617 - val_loss: 554.2040\n",
      "\n",
      "Epoch 00005: val_loss improved from 767.37766 to 554.20402, saving model to ./best_weights_lstm.hdf5\n",
      "Epoch 6/10\n",
      " - 1s - loss: 4.3099 - val_loss: 236.9948\n",
      "\n",
      "Epoch 00006: val_loss improved from 554.20402 to 236.99481, saving model to ./best_weights_lstm.hdf5\n",
      "Epoch 7/10\n",
      " - 1s - loss: 3.5488 - val_loss: 116.4429\n",
      "\n",
      "Epoch 00007: val_loss improved from 236.99481 to 116.44293, saving model to ./best_weights_lstm.hdf5\n",
      "Epoch 8/10\n",
      " - 1s - loss: 3.1895 - val_loss: 52.4072\n",
      "\n",
      "Epoch 00008: val_loss improved from 116.44293 to 52.40718, saving model to ./best_weights_lstm.hdf5\n",
      "Epoch 9/10\n",
      " - 1s - loss: 3.0275 - val_loss: 20.5508\n",
      "\n",
      "Epoch 00009: val_loss improved from 52.40718 to 20.55076, saving model to ./best_weights_lstm.hdf5\n",
      "Epoch 10/10\n",
      " - 1s - loss: 2.5767 - val_loss: 59.9616\n",
      "\n",
      "Epoch 00010: val_loss did not improve from 20.55076\n",
      "1\n",
      "Build model...\n",
      "Train...\n",
      "Train on 3068 samples, validate on 1312 samples\n",
      "Epoch 1/10\n",
      " - 4s - loss: 188.1654 - val_loss: 1969.5998\n",
      "\n",
      "Epoch 00001: val_loss did not improve from 20.55076\n",
      "Epoch 2/10\n",
      " - 1s - loss: 15.8244 - val_loss: 1094.1294\n",
      "\n",
      "Epoch 00002: val_loss did not improve from 20.55076\n",
      "Epoch 3/10\n",
      " - 1s - loss: 11.9870 - val_loss: 646.6326\n",
      "\n",
      "Epoch 00003: val_loss did not improve from 20.55076\n",
      "Epoch 4/10\n",
      " - 1s - loss: 7.7469 - val_loss: 319.2360\n",
      "\n",
      "Epoch 00004: val_loss did not improve from 20.55076\n",
      "Epoch 5/10\n",
      " - 1s - loss: 5.5849 - val_loss: 38.2341\n",
      "\n",
      "Epoch 00005: val_loss did not improve from 20.55076\n",
      "Epoch 6/10\n",
      " - 1s - loss: 4.4288 - val_loss: 26.2673\n",
      "\n",
      "Epoch 00006: val_loss did not improve from 20.55076\n",
      "Epoch 7/10\n",
      " - 1s - loss: 3.7393 - val_loss: 53.6505\n",
      "\n",
      "Epoch 00007: val_loss did not improve from 20.55076\n",
      "Epoch 8/10\n",
      " - 1s - loss: 3.6021 - val_loss: 29.1390\n",
      "\n",
      "Epoch 00008: val_loss did not improve from 20.55076\n",
      "Epoch 9/10\n",
      " - 1s - loss: 2.7449 - val_loss: 33.6238\n",
      "\n",
      "Epoch 00009: val_loss did not improve from 20.55076\n",
      "Epoch 10/10\n",
      " - 1s - loss: 3.3236 - val_loss: 30.2369\n",
      "\n",
      "Epoch 00010: val_loss did not improve from 20.55076\n",
      "2\n",
      "Build model...\n",
      "Train...\n",
      "Train on 3068 samples, validate on 1312 samples\n",
      "Epoch 1/10\n",
      " - 4s - loss: 208.8705 - val_loss: 3392.3702\n",
      "\n",
      "Epoch 00001: val_loss did not improve from 20.55076\n",
      "Epoch 2/10\n",
      " - 1s - loss: 15.6962 - val_loss: 1196.9473\n",
      "\n",
      "Epoch 00002: val_loss did not improve from 20.55076\n",
      "Epoch 3/10\n",
      " - 1s - loss: 13.5735 - val_loss: 338.6948\n",
      "\n",
      "Epoch 00003: val_loss did not improve from 20.55076\n",
      "Epoch 4/10\n",
      " - 1s - loss: 8.9637 - val_loss: 356.3326\n",
      "\n",
      "Epoch 00004: val_loss did not improve from 20.55076\n",
      "Epoch 5/10\n",
      " - 1s - loss: 6.8000 - val_loss: 254.8711\n",
      "\n",
      "Epoch 00005: val_loss did not improve from 20.55076\n",
      "Epoch 6/10\n",
      " - 1s - loss: 5.9518 - val_loss: 36.1494\n",
      "\n",
      "Epoch 00006: val_loss did not improve from 20.55076\n",
      "Epoch 7/10\n",
      " - 1s - loss: 4.2961 - val_loss: 31.0555\n",
      "\n",
      "Epoch 00007: val_loss did not improve from 20.55076\n",
      "Epoch 8/10\n",
      " - 1s - loss: 3.8533 - val_loss: 28.3664\n",
      "\n",
      "Epoch 00008: val_loss did not improve from 20.55076\n",
      "Epoch 9/10\n",
      " - 1s - loss: 3.5706 - val_loss: 16.1360\n",
      "\n",
      "Epoch 00009: val_loss improved from 20.55076 to 16.13596, saving model to ./best_weights_lstm.hdf5\n",
      "Epoch 10/10\n",
      " - 1s - loss: 2.9850 - val_loss: 21.0705\n",
      "\n",
      "Epoch 00010: val_loss did not improve from 16.13596\n",
      "3\n",
      "Build model...\n",
      "Train...\n",
      "Train on 3068 samples, validate on 1312 samples\n",
      "Epoch 1/10\n",
      " - 4s - loss: 204.2087 - val_loss: 3739.3452\n",
      "\n",
      "Epoch 00001: val_loss did not improve from 16.13596\n",
      "Epoch 2/10\n",
      " - 1s - loss: 15.2936 - val_loss: 1370.7860\n",
      "\n",
      "Epoch 00002: val_loss did not improve from 16.13596\n",
      "Epoch 3/10\n",
      " - 1s - loss: 11.7689 - val_loss: 1435.2729\n",
      "\n",
      "Epoch 00003: val_loss did not improve from 16.13596\n",
      "Epoch 4/10\n",
      " - 1s - loss: 7.6668 - val_loss: 335.2121\n",
      "\n",
      "Epoch 00004: val_loss did not improve from 16.13596\n",
      "Epoch 5/10\n",
      " - 1s - loss: 5.6578 - val_loss: 42.9173\n",
      "\n",
      "Epoch 00005: val_loss did not improve from 16.13596\n",
      "Epoch 6/10\n",
      " - 1s - loss: 4.7368 - val_loss: 32.0835\n",
      "\n",
      "Epoch 00006: val_loss did not improve from 16.13596\n",
      "Epoch 7/10\n",
      " - 1s - loss: 3.6032 - val_loss: 20.8163\n",
      "\n",
      "Epoch 00007: val_loss did not improve from 16.13596\n",
      "Epoch 8/10\n",
      " - 1s - loss: 3.8224 - val_loss: 22.0529\n",
      "\n",
      "Epoch 00008: val_loss did not improve from 16.13596\n",
      "Epoch 9/10\n",
      " - 1s - loss: 3.1876 - val_loss: 136.9694\n",
      "\n",
      "Epoch 00009: val_loss did not improve from 16.13596\n",
      "Epoch 10/10\n",
      " - 1s - loss: 3.2405 - val_loss: 77.5660\n",
      "\n",
      "Epoch 00010: val_loss did not improve from 16.13596\n",
      "4\n",
      "Build model...\n",
      "Train...\n",
      "Train on 3068 samples, validate on 1312 samples\n",
      "Epoch 1/10\n",
      " - 4s - loss: 176.9841 - val_loss: 4811.4799\n",
      "\n",
      "Epoch 00001: val_loss did not improve from 16.13596\n",
      "Epoch 2/10\n",
      " - 1s - loss: 17.9479 - val_loss: 3686.2735\n",
      "\n",
      "Epoch 00002: val_loss did not improve from 16.13596\n",
      "Epoch 3/10\n",
      " - 1s - loss: 13.5537 - val_loss: 3337.2227\n",
      "\n",
      "Epoch 00003: val_loss did not improve from 16.13596\n",
      "Epoch 4/10\n",
      " - 1s - loss: 8.5990 - val_loss: 1841.0698\n",
      "\n",
      "Epoch 00004: val_loss did not improve from 16.13596\n",
      "Epoch 5/10\n",
      " - 1s - loss: 6.5089 - val_loss: 1254.8404\n",
      "\n",
      "Epoch 00005: val_loss did not improve from 16.13596\n",
      "Epoch 6/10\n",
      " - 1s - loss: 5.6730 - val_loss: 1095.4594\n",
      "\n",
      "Epoch 00006: val_loss did not improve from 16.13596\n",
      "Epoch 7/10\n",
      " - 1s - loss: 5.2467 - val_loss: 766.1000\n",
      "\n",
      "Epoch 00007: val_loss did not improve from 16.13596\n",
      "Epoch 8/10\n",
      " - 1s - loss: 4.0844 - val_loss: 379.1631\n",
      "\n",
      "Epoch 00008: val_loss did not improve from 16.13596\n",
      "Epoch 9/10\n",
      " - 1s - loss: 3.1849 - val_loss: 213.1859\n",
      "\n",
      "Epoch 00009: val_loss did not improve from 16.13596\n",
      "Epoch 10/10\n",
      " - 1s - loss: 2.7238 - val_loss: 102.7768\n",
      "\n",
      "Epoch 00010: val_loss did not improve from 16.13596\n",
      "\n"
     ]
    }
   ],
   "source": [
    "for i in range(5):\n",
    "    print(i)\n",
    "    \n",
    "    print('Build model...')\n",
    "    model_lstm = Sequential()\n",
    "\n",
    "    model_lstm.add(LSTM(64, dropout=0.1, recurrent_dropout=0.1, input_shape=(5, 5),activation=\"relu\"))\n",
    "    model_lstm.add(Dense(32, activation=\"relu\"))\n",
    "    model_lstm.add(Dense(1))\n",
    "    model_lstm.compile(loss='mean_squared_error', optimizer='adam')\n",
    "    monitor = EarlyStopping(monitor='val_loss', min_delta=1e-3, patience=5, verbose=1, mode='auto')\n",
    "    print('Train...')\n",
    "    model_lstm.fit(x_train,y_train,validation_data=(x_test,y_test),callbacks=[monitor,checkpointer_lstm],verbose=2, epochs=10)  \n",
    "\n",
    " \n",
    "print()\n",
    "model_lstm.load_weights('./best_weights_lstm.hdf5')"
   ]
  },
  {
   "cell_type": "code",
   "execution_count": 69,
   "metadata": {},
   "outputs": [
    {
     "name": "stdout",
     "output_type": "stream",
     "text": [
      "Score (RMSE): 4.016958408779251\n"
     ]
    }
   ],
   "source": [
    "pred = model_lstm.predict(x_test)\n",
    "score = np.sqrt(metrics.mean_squared_error(pred,y_test))\n",
    "print(\"Score (RMSE): {}\".format(score))"
   ]
  },
  {
   "cell_type": "code",
   "execution_count": 70,
   "metadata": {},
   "outputs": [
    {
     "data": {
      "image/png": "[encoded data removed]",
      "text/plain": [
       "<matplotlib.figure.Figure at 0x14522cda0>"
      ]
     },
     "metadata": {},
     "output_type": "display_data"
    }
   ],
   "source": [
    "chart_regression(pred.flatten(),y_test,sort=True)"
   ]
  },
  {
   "cell_type": "code",
   "execution_count": 71,
   "metadata": {},
   "outputs": [
    {
     "name": "stdout",
     "output_type": "stream",
     "text": [
      "0.9802344976934115\n"
     ]
    }
   ],
   "source": [
    "score_r2 = r2_score(pred,y_test)\n",
    "print(format(score_r2))"
   ]
  },
  {
   "cell_type": "markdown",
   "metadata": {},
   "source": [
    "### Keras layer wrappers to create an even more complicated layer feature 3"
   ]
  },
  {
   "cell_type": "code",
   "execution_count": 72,
   "metadata": {
    "collapsed": true
   },
   "outputs": [],
   "source": [
    "checkpointer_lstm_n = ModelCheckpoint(filepath=\"./best_weights_lstm_n.hdf5\", verbose=1, save_best_only=True)"
   ]
  },
  {
   "cell_type": "code",
   "execution_count": 78,
   "metadata": {},
   "outputs": [
    {
     "name": "stdout",
     "output_type": "stream",
     "text": [
      "0\n",
      "Build model...\n",
      "Train...\n",
      "Train on 3068 samples, validate on 1312 samples\n",
      "Epoch 1/10\n",
      " - 7s - loss: 238.6084 - val_loss: 3453.1013\n",
      "\n",
      "Epoch 00001: val_loss did not improve from 16.13596\n",
      "Epoch 2/10\n",
      " - 1s - loss: 55.2726 - val_loss: 2294.6122\n",
      "\n",
      "Epoch 00002: val_loss did not improve from 16.13596\n",
      "Epoch 3/10\n",
      " - 1s - loss: 7.8354 - val_loss: 1706.3890\n",
      "\n",
      "Epoch 00003: val_loss did not improve from 16.13596\n",
      "Epoch 4/10\n",
      " - 1s - loss: 1.7197 - val_loss: 1487.4828\n",
      "\n",
      "Epoch 00004: val_loss did not improve from 16.13596\n",
      "Epoch 5/10\n",
      " - 1s - loss: 0.7564 - val_loss: 1388.7534\n",
      "\n",
      "Epoch 00005: val_loss did not improve from 16.13596\n",
      "Epoch 6/10\n",
      " - 1s - loss: 0.5107 - val_loss: 1335.1389\n",
      "\n",
      "Epoch 00006: val_loss did not improve from 16.13596\n",
      "Epoch 7/10\n",
      " - 1s - loss: 0.3964 - val_loss: 1303.8836\n",
      "\n",
      "Epoch 00007: val_loss did not improve from 16.13596\n",
      "Epoch 8/10\n",
      " - 1s - loss: 0.3704 - val_loss: 1283.6497\n",
      "\n",
      "Epoch 00008: val_loss did not improve from 16.13596\n",
      "Epoch 9/10\n",
      " - 1s - loss: 0.3514 - val_loss: 1273.7339\n",
      "\n",
      "Epoch 00009: val_loss did not improve from 16.13596\n",
      "Epoch 10/10\n",
      " - 1s - loss: 0.3603 - val_loss: 1263.7982\n",
      "\n",
      "Epoch 00010: val_loss did not improve from 16.13596\n",
      "1\n",
      "Build model...\n",
      "Train...\n",
      "Train on 3068 samples, validate on 1312 samples\n",
      "Epoch 1/10\n",
      " - 8s - loss: 236.2483 - val_loss: 3233.2707\n",
      "\n",
      "Epoch 00001: val_loss did not improve from 16.13596\n",
      "Epoch 2/10\n",
      " - 1s - loss: 44.5521 - val_loss: 2122.7677\n",
      "\n",
      "Epoch 00002: val_loss did not improve from 16.13596\n",
      "Epoch 3/10\n",
      " - 1s - loss: 5.1230 - val_loss: 1625.6931\n",
      "\n",
      "Epoch 00003: val_loss did not improve from 16.13596\n",
      "Epoch 4/10\n",
      " - 1s - loss: 1.3160 - val_loss: 1449.9797\n",
      "\n",
      "Epoch 00004: val_loss did not improve from 16.13596\n",
      "Epoch 5/10\n",
      " - 1s - loss: 0.7417 - val_loss: 1374.8856\n",
      "\n",
      "Epoch 00005: val_loss did not improve from 16.13596\n",
      "Epoch 6/10\n",
      " - 1s - loss: 0.5438 - val_loss: 1329.1086\n",
      "\n",
      "Epoch 00006: val_loss did not improve from 16.13596\n",
      "Epoch 7/10\n",
      " - 1s - loss: 0.4398 - val_loss: 1295.9943\n",
      "\n",
      "Epoch 00007: val_loss did not improve from 16.13596\n",
      "Epoch 8/10\n",
      " - 1s - loss: 0.3840 - val_loss: 1271.9664\n",
      "\n",
      "Epoch 00008: val_loss did not improve from 16.13596\n",
      "Epoch 9/10\n",
      " - 1s - loss: 0.3494 - val_loss: 1254.9796\n",
      "\n",
      "Epoch 00009: val_loss did not improve from 16.13596\n",
      "Epoch 10/10\n",
      " - 1s - loss: 0.3524 - val_loss: 1243.1105\n",
      "\n",
      "Epoch 00010: val_loss did not improve from 16.13596\n",
      "2\n",
      "Build model...\n",
      "Train...\n",
      "Train on 3068 samples, validate on 1312 samples\n",
      "Epoch 1/10\n",
      " - 9s - loss: 254.1487 - val_loss: 3625.9824\n",
      "\n",
      "Epoch 00001: val_loss did not improve from 16.13596\n",
      "Epoch 2/10\n",
      " - 1s - loss: 62.7001 - val_loss: 2354.5729\n",
      "\n",
      "Epoch 00002: val_loss did not improve from 16.13596\n",
      "Epoch 3/10\n",
      " - 1s - loss: 8.5990 - val_loss: 1706.1428\n",
      "\n",
      "Epoch 00003: val_loss did not improve from 16.13596\n",
      "Epoch 4/10\n",
      " - 1s - loss: 1.7222 - val_loss: 1484.1579\n",
      "\n",
      "Epoch 00004: val_loss did not improve from 16.13596\n",
      "Epoch 5/10\n",
      " - 1s - loss: 0.7410 - val_loss: 1389.9844\n",
      "\n",
      "Epoch 00005: val_loss did not improve from 16.13596\n",
      "Epoch 6/10\n",
      " - 1s - loss: 0.4975 - val_loss: 1337.1078\n",
      "\n",
      "Epoch 00006: val_loss did not improve from 16.13596\n",
      "Epoch 7/10\n",
      " - 1s - loss: 0.3994 - val_loss: 1304.3418\n",
      "\n",
      "Epoch 00007: val_loss did not improve from 16.13596\n",
      "Epoch 8/10\n",
      " - 1s - loss: 0.3681 - val_loss: 1282.1242\n",
      "\n",
      "Epoch 00008: val_loss did not improve from 16.13596\n",
      "Epoch 9/10\n",
      " - 1s - loss: 0.3548 - val_loss: 1269.6376\n",
      "\n",
      "Epoch 00009: val_loss did not improve from 16.13596\n",
      "Epoch 10/10\n",
      " - 1s - loss: 0.3508 - val_loss: 1260.5126\n",
      "\n",
      "Epoch 00010: val_loss did not improve from 16.13596\n",
      "3\n",
      "Build model...\n",
      "Train...\n",
      "Train on 3068 samples, validate on 1312 samples\n",
      "Epoch 1/10\n",
      " - 8s - loss: 241.1031 - val_loss: 3416.8730\n",
      "\n",
      "Epoch 00001: val_loss did not improve from 16.13596\n",
      "Epoch 2/10\n",
      " - 1s - loss: 52.3311 - val_loss: 2191.9310\n",
      "\n",
      "Epoch 00002: val_loss did not improve from 16.13596\n",
      "Epoch 3/10\n",
      " - 1s - loss: 6.0109 - val_loss: 1638.8449\n",
      "\n",
      "Epoch 00003: val_loss did not improve from 16.13596\n",
      "Epoch 4/10\n",
      " - 1s - loss: 1.3581 - val_loss: 1455.4028\n",
      "\n",
      "Epoch 00004: val_loss did not improve from 16.13596\n",
      "Epoch 5/10\n",
      " - 1s - loss: 0.7182 - val_loss: 1373.0192\n",
      "\n",
      "Epoch 00005: val_loss did not improve from 16.13596\n",
      "Epoch 6/10\n",
      " - 1s - loss: 0.5146 - val_loss: 1326.2559\n",
      "\n",
      "Epoch 00006: val_loss did not improve from 16.13596\n",
      "Epoch 7/10\n",
      " - 1s - loss: 0.4255 - val_loss: 1293.4490\n",
      "\n",
      "Epoch 00007: val_loss did not improve from 16.13596\n",
      "Epoch 8/10\n",
      " - 1s - loss: 0.3836 - val_loss: 1272.7229\n",
      "\n",
      "Epoch 00008: val_loss did not improve from 16.13596\n",
      "Epoch 9/10\n",
      " - 1s - loss: 0.3810 - val_loss: 1259.9351\n",
      "\n",
      "Epoch 00009: val_loss did not improve from 16.13596\n",
      "Epoch 10/10\n",
      " - 1s - loss: 0.3525 - val_loss: 1249.8830\n",
      "\n",
      "Epoch 00010: val_loss did not improve from 16.13596\n",
      "4\n",
      "Build model...\n",
      "Train...\n",
      "Train on 3068 samples, validate on 1312 samples\n",
      "Epoch 1/10\n",
      " - 8s - loss: 252.1542 - val_loss: 3532.1907\n",
      "\n",
      "Epoch 00001: val_loss did not improve from 16.13596\n",
      "Epoch 2/10\n",
      " - 1s - loss: 62.7152 - val_loss: 2353.1965\n",
      "\n",
      "Epoch 00002: val_loss did not improve from 16.13596\n",
      "Epoch 3/10\n",
      " - 1s - loss: 8.1974 - val_loss: 1693.5731\n",
      "\n",
      "Epoch 00003: val_loss did not improve from 16.13596\n",
      "Epoch 4/10\n",
      " - 1s - loss: 1.5996 - val_loss: 1480.4776\n",
      "\n",
      "Epoch 00004: val_loss did not improve from 16.13596\n",
      "Epoch 5/10\n",
      " - 1s - loss: 0.7572 - val_loss: 1387.8092\n",
      "\n",
      "Epoch 00005: val_loss did not improve from 16.13596\n",
      "Epoch 6/10\n",
      " - 1s - loss: 0.5105 - val_loss: 1335.9349\n",
      "\n",
      "Epoch 00006: val_loss did not improve from 16.13596\n",
      "Epoch 7/10\n",
      " - 1s - loss: 0.4113 - val_loss: 1301.6432\n",
      "\n",
      "Epoch 00007: val_loss did not improve from 16.13596\n",
      "Epoch 8/10\n",
      " - 1s - loss: 0.3643 - val_loss: 1282.0779\n",
      "\n",
      "Epoch 00008: val_loss did not improve from 16.13596\n",
      "Epoch 9/10\n",
      " - 1s - loss: 0.3562 - val_loss: 1268.6958\n",
      "\n",
      "Epoch 00009: val_loss did not improve from 16.13596\n",
      "Epoch 10/10\n",
      " - 1s - loss: 0.3501 - val_loss: 1259.6976\n",
      "\n",
      "Epoch 00010: val_loss did not improve from 16.13596\n",
      "\n"
     ]
    },
    {
     "ename": "OSError",
     "evalue": "Unable to open file (Unable to open file: name = './best_weights_lstm_n.hdf5', errno = 2, error message = 'no such file or directory', flags = 0, o_flags = 0)",
     "output_type": "error",
     "traceback": [
      "\u001b[0;31m---------------------------------------------------------------------------\u001b[0m",
      "\u001b[0;31mOSError\u001b[0m                                   Traceback (most recent call last)",
      "\u001b[0;32m<ipython-input-78-99ba540feb65>\u001b[0m in \u001b[0;36m<module>\u001b[0;34m()\u001b[0m\n\u001b[1;32m     16\u001b[0m \u001b[0;34m\u001b[0m\u001b[0m\n\u001b[1;32m     17\u001b[0m \u001b[0mprint\u001b[0m\u001b[0;34m(\u001b[0m\u001b[0;34m)\u001b[0m\u001b[0;34m\u001b[0m\u001b[0m\n\u001b[0;32m---> 18\u001b[0;31m \u001b[0mmodel_lstm_n\u001b[0m\u001b[0;34m.\u001b[0m\u001b[0mload_weights\u001b[0m\u001b[0;34m(\u001b[0m\u001b[0;34m'./best_weights_lstm_n.hdf5'\u001b[0m\u001b[0;34m)\u001b[0m\u001b[0;34m\u001b[0m\u001b[0m\n\u001b[0m",
      "\u001b[0;32m/anaconda3/lib/python3.6/site-packages/keras/engine/network.py\u001b[0m in \u001b[0;36mload_weights\u001b[0;34m(self, filepath, by_name, skip_mismatch, reshape)\u001b[0m\n\u001b[1;32m   1155\u001b[0m         \u001b[0;32mif\u001b[0m \u001b[0mh5py\u001b[0m \u001b[0;32mis\u001b[0m \u001b[0;32mNone\u001b[0m\u001b[0;34m:\u001b[0m\u001b[0;34m\u001b[0m\u001b[0m\n\u001b[1;32m   1156\u001b[0m             \u001b[0;32mraise\u001b[0m \u001b[0mImportError\u001b[0m\u001b[0;34m(\u001b[0m\u001b[0;34m'`load_weights` requires h5py.'\u001b[0m\u001b[0;34m)\u001b[0m\u001b[0;34m\u001b[0m\u001b[0m\n\u001b[0;32m-> 1157\u001b[0;31m         \u001b[0;32mwith\u001b[0m \u001b[0mh5py\u001b[0m\u001b[0;34m.\u001b[0m\u001b[0mFile\u001b[0m\u001b[0;34m(\u001b[0m\u001b[0mfilepath\u001b[0m\u001b[0;34m,\u001b[0m \u001b[0mmode\u001b[0m\u001b[0;34m=\u001b[0m\u001b[0;34m'r'\u001b[0m\u001b[0;34m)\u001b[0m \u001b[0;32mas\u001b[0m \u001b[0mf\u001b[0m\u001b[0;34m:\u001b[0m\u001b[0;34m\u001b[0m\u001b[0m\n\u001b[0m\u001b[1;32m   1158\u001b[0m             \u001b[0;32mif\u001b[0m \u001b[0;34m'layer_names'\u001b[0m \u001b[0;32mnot\u001b[0m \u001b[0;32min\u001b[0m \u001b[0mf\u001b[0m\u001b[0;34m.\u001b[0m\u001b[0mattrs\u001b[0m \u001b[0;32mand\u001b[0m \u001b[0;34m'model_weights'\u001b[0m \u001b[0;32min\u001b[0m \u001b[0mf\u001b[0m\u001b[0;34m:\u001b[0m\u001b[0;34m\u001b[0m\u001b[0m\n\u001b[1;32m   1159\u001b[0m                 \u001b[0mf\u001b[0m \u001b[0;34m=\u001b[0m \u001b[0mf\u001b[0m\u001b[0;34m[\u001b[0m\u001b[0;34m'model_weights'\u001b[0m\u001b[0;34m]\u001b[0m\u001b[0;34m\u001b[0m\u001b[0m\n",
      "\u001b[0;32m/anaconda3/lib/python3.6/site-packages/h5py/_hl/files.py\u001b[0m in \u001b[0;36m__init__\u001b[0;34m(self, name, mode, driver, libver, userblock_size, swmr, **kwds)\u001b[0m\n\u001b[1;32m    269\u001b[0m \u001b[0;34m\u001b[0m\u001b[0m\n\u001b[1;32m    270\u001b[0m                 \u001b[0mfapl\u001b[0m \u001b[0;34m=\u001b[0m \u001b[0mmake_fapl\u001b[0m\u001b[0;34m(\u001b[0m\u001b[0mdriver\u001b[0m\u001b[0;34m,\u001b[0m \u001b[0mlibver\u001b[0m\u001b[0;34m,\u001b[0m \u001b[0;34m**\u001b[0m\u001b[0mkwds\u001b[0m\u001b[0;34m)\u001b[0m\u001b[0;34m\u001b[0m\u001b[0m\n\u001b[0;32m--> 271\u001b[0;31m                 \u001b[0mfid\u001b[0m \u001b[0;34m=\u001b[0m \u001b[0mmake_fid\u001b[0m\u001b[0;34m(\u001b[0m\u001b[0mname\u001b[0m\u001b[0;34m,\u001b[0m \u001b[0mmode\u001b[0m\u001b[0;34m,\u001b[0m \u001b[0muserblock_size\u001b[0m\u001b[0;34m,\u001b[0m \u001b[0mfapl\u001b[0m\u001b[0;34m,\u001b[0m \u001b[0mswmr\u001b[0m\u001b[0;34m=\u001b[0m\u001b[0mswmr\u001b[0m\u001b[0;34m)\u001b[0m\u001b[0;34m\u001b[0m\u001b[0m\n\u001b[0m\u001b[1;32m    272\u001b[0m \u001b[0;34m\u001b[0m\u001b[0m\n\u001b[1;32m    273\u001b[0m                 \u001b[0;32mif\u001b[0m \u001b[0mswmr_support\u001b[0m\u001b[0;34m:\u001b[0m\u001b[0;34m\u001b[0m\u001b[0m\n",
      "\u001b[0;32m/anaconda3/lib/python3.6/site-packages/h5py/_hl/files.py\u001b[0m in \u001b[0;36mmake_fid\u001b[0;34m(name, mode, userblock_size, fapl, fcpl, swmr)\u001b[0m\n\u001b[1;32m     99\u001b[0m         \u001b[0;32mif\u001b[0m \u001b[0mswmr\u001b[0m \u001b[0;32mand\u001b[0m \u001b[0mswmr_support\u001b[0m\u001b[0;34m:\u001b[0m\u001b[0;34m\u001b[0m\u001b[0m\n\u001b[1;32m    100\u001b[0m             \u001b[0mflags\u001b[0m \u001b[0;34m|=\u001b[0m \u001b[0mh5f\u001b[0m\u001b[0;34m.\u001b[0m\u001b[0mACC_SWMR_READ\u001b[0m\u001b[0;34m\u001b[0m\u001b[0m\n\u001b[0;32m--> 101\u001b[0;31m         \u001b[0mfid\u001b[0m \u001b[0;34m=\u001b[0m \u001b[0mh5f\u001b[0m\u001b[0;34m.\u001b[0m\u001b[0mopen\u001b[0m\u001b[0;34m(\u001b[0m\u001b[0mname\u001b[0m\u001b[0;34m,\u001b[0m \u001b[0mflags\u001b[0m\u001b[0;34m,\u001b[0m \u001b[0mfapl\u001b[0m\u001b[0;34m=\u001b[0m\u001b[0mfapl\u001b[0m\u001b[0;34m)\u001b[0m\u001b[0;34m\u001b[0m\u001b[0m\n\u001b[0m\u001b[1;32m    102\u001b[0m     \u001b[0;32melif\u001b[0m \u001b[0mmode\u001b[0m \u001b[0;34m==\u001b[0m \u001b[0;34m'r+'\u001b[0m\u001b[0;34m:\u001b[0m\u001b[0;34m\u001b[0m\u001b[0m\n\u001b[1;32m    103\u001b[0m         \u001b[0mfid\u001b[0m \u001b[0;34m=\u001b[0m \u001b[0mh5f\u001b[0m\u001b[0;34m.\u001b[0m\u001b[0mopen\u001b[0m\u001b[0;34m(\u001b[0m\u001b[0mname\u001b[0m\u001b[0;34m,\u001b[0m \u001b[0mh5f\u001b[0m\u001b[0;34m.\u001b[0m\u001b[0mACC_RDWR\u001b[0m\u001b[0;34m,\u001b[0m \u001b[0mfapl\u001b[0m\u001b[0;34m=\u001b[0m\u001b[0mfapl\u001b[0m\u001b[0;34m)\u001b[0m\u001b[0;34m\u001b[0m\u001b[0m\n",
      "\u001b[0;32mh5py/_objects.pyx\u001b[0m in \u001b[0;36mh5py._objects.with_phil.wrapper\u001b[0;34m()\u001b[0m\n",
      "\u001b[0;32mh5py/_objects.pyx\u001b[0m in \u001b[0;36mh5py._objects.with_phil.wrapper\u001b[0;34m()\u001b[0m\n",
      "\u001b[0;32mh5py/h5f.pyx\u001b[0m in \u001b[0;36mh5py.h5f.open\u001b[0;34m()\u001b[0m\n",
      "\u001b[0;31mOSError\u001b[0m: Unable to open file (Unable to open file: name = './best_weights_lstm_n.hdf5', errno = 2, error message = 'no such file or directory', flags = 0, o_flags = 0)"
     ]
    }
   ],
   "source": [
    "for i in range(5):\n",
    "    print(i)\n",
    "    \n",
    "    print('Build model...')\n",
    "    model_lstm_n = Sequential()\n",
    "\n",
    "    model_lstm_n.add(Bidirectional(LSTM(20, return_sequences=True),input_shape=(5,5)))\n",
    "    model_lstm_n.add(Bidirectional(LSTM(10)))\n",
    "    model_lstm_n.add(Dense(32, activation=\"relu\"))\n",
    "    model_lstm_n.add(Dense(1))\n",
    "    model_lstm_n.compile(loss='mean_squared_error', optimizer='adam')\n",
    "    monitor = EarlyStopping(monitor='val_loss', min_delta=1e-3, patience=5, verbose=1, mode='auto')\n",
    "    print('Train...')\n",
    "    model_lstm_n.fit(x_train,y_train,validation_data=(x_test,y_test),callbacks=[monitor,checkpointer_lstm],verbose=2, epochs=10)  \n",
    "\n",
    " \n",
    "print()\n",
    "model_lstm_n.load_weights('./best_weights_lstm_n.hdf5')"
   ]
  },
  {
   "cell_type": "code",
   "execution_count": 79,
   "metadata": {},
   "outputs": [
    {
     "name": "stdout",
     "output_type": "stream",
     "text": [
      "Score (RMSE): 4.016958408779251\n"
     ]
    }
   ],
   "source": [
    "pred_m = model_lstm.predict(x_test)\n",
    "score_m = np.sqrt(metrics.mean_squared_error(pred_m,y_test))\n",
    "print(\"Score (RMSE): {}\".format(score_m))"
   ]
  },
  {
   "cell_type": "code",
   "execution_count": 80,
   "metadata": {},
   "outputs": [
    {
     "name": "stdout",
     "output_type": "stream",
     "text": [
      "0.9802344976934115\n"
     ]
    }
   ],
   "source": [
    "score_r2_m = r2_score(pred_m,y_test)\n",
    "print(format(score_r2_m))"
   ]
  },
  {
   "cell_type": "code",
   "execution_count": null,
   "metadata": {
    "collapsed": true
   },
   "outputs": [],
   "source": []
  },
  {
   "cell_type": "code",
   "execution_count": null,
   "metadata": {
    "collapsed": true
   },
   "outputs": [],
   "source": []
  }
 ],
 "metadata": {
  "kernelspec": {
   "display_name": "Python 3",
   "language": "python",
   "name": "python3"
  },
  "language_info": {
   "codemirror_mode": {
    "name": "ipython",
    "version": 3
   },
   "file_extension": ".py",
   "mimetype": "text/x-python",
   "name": "python",
   "nbconvert_exporter": "python",
   "pygments_lexer": "ipython3",
   "version": "3.7.4"
  }
 },
 "nbformat": 4,
 "nbformat_minor": 2
}
