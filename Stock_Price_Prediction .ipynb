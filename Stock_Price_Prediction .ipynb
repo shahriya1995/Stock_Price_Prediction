{
  "nbformat": 4,
  "nbformat_minor": 0,
  "metadata": {
    "kernelspec": {
      "name": "python3",
      "display_name": "Python 3"
    },
    "language_info": {
      "codemirror_mode": {
        "name": "ipython",
        "version": 3
      },
      "file_extension": ".py",
      "mimetype": "text/x-python",
      "name": "python",
      "nbconvert_exporter": "python",
      "pygments_lexer": "ipython3",
      "version": "3.6.8"
    },
    "colab": {
      "name": "Stock Price Prediction.ipynb",
      "version": "0.3.2",
      "provenance": [],
      "toc_visible": true
    },
    "accelerator": "GPU"
  },
  "cells": [
    {
      "cell_type": "markdown",
      "metadata": {
        "id": "f82Xqsh94tmV",
        "colab_type": "text"
      },
      "source": [
        "# Stock Price Prediction\n",
        "\n",
        "### Problem Statement: \n",
        "\n",
        "Use the daily [Open, High, Low, Volume] to predict [Close] on that day using Regression models.\n",
        "\n",
        "### Models Used:\n",
        "\n",
        "LINEAR REGRESSION\n",
        "\n",
        "LASSO REGRESSION\n",
        "\n",
        "RIDGE REGRESSION\n",
        "\n",
        "### Dataset Description:\n",
        "\n",
        "Yahoo Finance Apple Dataset\n",
        "\n",
        "https://finance.yahoo.com/quote/AAPL/history?p=AAPL\n",
        "\n",
        "Dataset collected of past 5 years to predict results.\n",
        "\n"
      ]
    },
    {
      "cell_type": "markdown",
      "metadata": {
        "id": "Y2hMI12VEYL7",
        "colab_type": "text"
      },
      "source": [
        "# Import Required Libraries"
      ]
    },
    {
      "cell_type": "code",
      "metadata": {
        "id": "9m0xe9MN4tmX",
        "colab_type": "code",
        "colab": {}
      },
      "source": [
        "import pandas as pd\n",
        "import numpy as np\n",
        "import matplotlib.pyplot as plt\n",
        "import numpy as np\n",
        "from scipy.stats import zscore\n",
        "from sklearn.model_selection import train_test_split\n",
        "import datetime\n",
        "from pandas_datareader import data as pdr\n",
        "import fix_yahoo_finance as yf\n",
        "import warnings\n",
        "warnings.filterwarnings('ignore')"
      ],
      "execution_count": 0,
      "outputs": []
    },
    {
      "cell_type": "markdown",
      "metadata": {
        "id": "xnSS0GzsEdnV",
        "colab_type": "text"
      },
      "source": [
        "# Regression chart Function"
      ]
    },
    {
      "cell_type": "code",
      "metadata": {
        "id": "5ZsaIltvCKcx",
        "colab_type": "code",
        "colab": {}
      },
      "source": [
        "# Regression chart.\n",
        "def chart_regression(pred,y,sort=True):\n",
        "    t = pd.DataFrame({'pred' : pred, 'y' : y.flatten()})\n",
        "    if sort:\n",
        "        t.sort_values(by=['y'],inplace=True)\n",
        "    a = plt.plot(t['y'].tolist(),label='expected')\n",
        "    b = plt.plot(t['pred'].tolist(),label='prediction')\n",
        "    plt.ylabel('output')\n",
        "    plt.legend()\n",
        "    plt.show()"
      ],
      "execution_count": 0,
      "outputs": []
    },
    {
      "cell_type": "markdown",
      "metadata": {
        "id": "_T76LAKPEhjV",
        "colab_type": "text"
      },
      "source": [
        "## Yahoo! Finance market data downloader +fix for Pandas Datareader's get_data_yahoo()\n",
        "\n",
        "## !pip install yfinance --upgrade --no-cache-dir"
      ]
    },
    {
      "cell_type": "code",
      "metadata": {
        "id": "JtSivgOj4tmZ",
        "colab_type": "code",
        "colab": {}
      },
      "source": [
        "# !pip install yfinance --upgrade --no-cache-dir"
      ],
      "execution_count": 0,
      "outputs": []
    },
    {
      "cell_type": "code",
      "metadata": {
        "id": "jKbcM-1B6WnW",
        "colab_type": "code",
        "colab": {
          "base_uri": "https://localhost:8080/",
          "height": 51
        },
        "outputId": "c413781f-e3d7-474d-9bb5-5e9a605e26dd"
      },
      "source": [
        "from google.colab import drive\n",
        "drive.mount('/content/drive',force_remount=True)\n",
        "%cd \"/content/drive/My Drive\"\n"
      ],
      "execution_count": 4,
      "outputs": [
        {
          "output_type": "stream",
          "text": [
            "Mounted at /content/drive\n",
            "/content/drive/My Drive\n"
          ],
          "name": "stdout"
        }
      ]
    },
    {
      "cell_type": "markdown",
      "metadata": {
        "id": "ufaXEFEfE-C2",
        "colab_type": "text"
      },
      "source": [
        "## Collect data for training by incuding the start date\n"
      ]
    },
    {
      "cell_type": "code",
      "metadata": {
        "id": "EZVZRh5Z4tme",
        "colab_type": "code",
        "colab": {
          "base_uri": "https://localhost:8080/",
          "height": 221
        },
        "outputId": "190aec46-e9ab-4ffa-a39a-85f4b342d570"
      },
      "source": [
        "yf.pdr_override()\n",
        "df = pdr.get_data_yahoo(\"AAPL\", start=\"2014-09-08\").reset_index()\n",
        "df.to_csv('AAPL.csv',index=False)\n",
        "df.head()"
      ],
      "execution_count": 5,
      "outputs": [
        {
          "output_type": "stream",
          "text": [
            "[*********************100%***********************]  1 of 1 downloaded\n"
          ],
          "name": "stdout"
        },
        {
          "output_type": "execute_result",
          "data": {
            "text/html": [
              "<div>\n",
              "<style scoped>\n",
              "    .dataframe tbody tr th:only-of-type {\n",
              "        vertical-align: middle;\n",
              "    }\n",
              "\n",
              "    .dataframe tbody tr th {\n",
              "        vertical-align: top;\n",
              "    }\n",
              "\n",
              "    .dataframe thead th {\n",
              "        text-align: right;\n",
              "    }\n",
              "</style>\n",
              "<table border=\"1\" class=\"dataframe\">\n",
              "  <thead>\n",
              "    <tr style=\"text-align: right;\">\n",
              "      <th></th>\n",
              "      <th>Date</th>\n",
              "      <th>Open</th>\n",
              "      <th>High</th>\n",
              "      <th>Low</th>\n",
              "      <th>Close</th>\n",
              "      <th>Adj Close</th>\n",
              "      <th>Volume</th>\n",
              "    </tr>\n",
              "  </thead>\n",
              "  <tbody>\n",
              "    <tr>\n",
              "      <th>0</th>\n",
              "      <td>2014-09-08</td>\n",
              "      <td>99.300003</td>\n",
              "      <td>99.309998</td>\n",
              "      <td>98.050003</td>\n",
              "      <td>98.360001</td>\n",
              "      <td>90.254837</td>\n",
              "      <td>46356700</td>\n",
              "    </tr>\n",
              "    <tr>\n",
              "      <th>1</th>\n",
              "      <td>2014-09-09</td>\n",
              "      <td>99.080002</td>\n",
              "      <td>103.080002</td>\n",
              "      <td>96.139999</td>\n",
              "      <td>97.989998</td>\n",
              "      <td>89.915321</td>\n",
              "      <td>189846300</td>\n",
              "    </tr>\n",
              "    <tr>\n",
              "      <th>2</th>\n",
              "      <td>2014-09-10</td>\n",
              "      <td>98.010002</td>\n",
              "      <td>101.110001</td>\n",
              "      <td>97.760002</td>\n",
              "      <td>101.000000</td>\n",
              "      <td>92.677299</td>\n",
              "      <td>100869600</td>\n",
              "    </tr>\n",
              "    <tr>\n",
              "      <th>3</th>\n",
              "      <td>2014-09-11</td>\n",
              "      <td>100.410004</td>\n",
              "      <td>101.440002</td>\n",
              "      <td>99.620003</td>\n",
              "      <td>101.430000</td>\n",
              "      <td>93.071877</td>\n",
              "      <td>62353100</td>\n",
              "    </tr>\n",
              "    <tr>\n",
              "      <th>4</th>\n",
              "      <td>2014-09-12</td>\n",
              "      <td>101.209999</td>\n",
              "      <td>102.190002</td>\n",
              "      <td>101.080002</td>\n",
              "      <td>101.660004</td>\n",
              "      <td>93.282913</td>\n",
              "      <td>62626100</td>\n",
              "    </tr>\n",
              "  </tbody>\n",
              "</table>\n",
              "</div>"
            ],
            "text/plain": [
              "        Date        Open        High  ...       Close  Adj Close     Volume\n",
              "0 2014-09-08   99.300003   99.309998  ...   98.360001  90.254837   46356700\n",
              "1 2014-09-09   99.080002  103.080002  ...   97.989998  89.915321  189846300\n",
              "2 2014-09-10   98.010002  101.110001  ...  101.000000  92.677299  100869600\n",
              "3 2014-09-11  100.410004  101.440002  ...  101.430000  93.071877   62353100\n",
              "4 2014-09-12  101.209999  102.190002  ...  101.660004  93.282913   62626100\n",
              "\n",
              "[5 rows x 7 columns]"
            ]
          },
          "metadata": {
            "tags": []
          },
          "execution_count": 5
        }
      ]
    },
    {
      "cell_type": "code",
      "metadata": {
        "id": "wRvN7ktV4tmz",
        "colab_type": "code",
        "colab": {
          "base_uri": "https://localhost:8080/",
          "height": 34
        },
        "outputId": "a5dee6c6-7969-454e-a35f-9517072518b0"
      },
      "source": [
        "df.shape"
      ],
      "execution_count": 6,
      "outputs": [
        {
          "output_type": "execute_result",
          "data": {
            "text/plain": [
              "(1259, 7)"
            ]
          },
          "metadata": {
            "tags": []
          },
          "execution_count": 6
        }
      ]
    },
    {
      "cell_type": "code",
      "metadata": {
        "id": "6Ik_MjfW4tm1",
        "colab_type": "code",
        "colab": {
          "base_uri": "https://localhost:8080/",
          "height": 34
        },
        "outputId": "c2395e2a-06d1-4987-a811-8cd70e3da35d"
      },
      "source": [
        "type(df)"
      ],
      "execution_count": 7,
      "outputs": [
        {
          "output_type": "execute_result",
          "data": {
            "text/plain": [
              "pandas.core.frame.DataFrame"
            ]
          },
          "metadata": {
            "tags": []
          },
          "execution_count": 7
        }
      ]
    },
    {
      "cell_type": "markdown",
      "metadata": {
        "id": "z0zhjseo4tm3",
        "colab_type": "text"
      },
      "source": [
        "## Remove adj_close  and  data"
      ]
    },
    {
      "cell_type": "code",
      "metadata": {
        "id": "iPEQ-0yg4tm4",
        "colab_type": "code",
        "colab": {}
      },
      "source": [
        "## make a copy of dataframe and then do datapreprocessing"
      ],
      "execution_count": 0,
      "outputs": []
    },
    {
      "cell_type": "code",
      "metadata": {
        "id": "M1DV_GiK4tm6",
        "colab_type": "code",
        "colab": {
          "base_uri": "https://localhost:8080/",
          "height": 204
        },
        "outputId": "486b3035-15c5-416e-837d-48b44fdd50c1"
      },
      "source": [
        "df_new = df.copy()\n",
        "df_new.head()"
      ],
      "execution_count": 9,
      "outputs": [
        {
          "output_type": "execute_result",
          "data": {
            "text/html": [
              "<div>\n",
              "<style scoped>\n",
              "    .dataframe tbody tr th:only-of-type {\n",
              "        vertical-align: middle;\n",
              "    }\n",
              "\n",
              "    .dataframe tbody tr th {\n",
              "        vertical-align: top;\n",
              "    }\n",
              "\n",
              "    .dataframe thead th {\n",
              "        text-align: right;\n",
              "    }\n",
              "</style>\n",
              "<table border=\"1\" class=\"dataframe\">\n",
              "  <thead>\n",
              "    <tr style=\"text-align: right;\">\n",
              "      <th></th>\n",
              "      <th>Date</th>\n",
              "      <th>Open</th>\n",
              "      <th>High</th>\n",
              "      <th>Low</th>\n",
              "      <th>Close</th>\n",
              "      <th>Adj Close</th>\n",
              "      <th>Volume</th>\n",
              "    </tr>\n",
              "  </thead>\n",
              "  <tbody>\n",
              "    <tr>\n",
              "      <th>0</th>\n",
              "      <td>2014-09-08</td>\n",
              "      <td>99.300003</td>\n",
              "      <td>99.309998</td>\n",
              "      <td>98.050003</td>\n",
              "      <td>98.360001</td>\n",
              "      <td>90.254837</td>\n",
              "      <td>46356700</td>\n",
              "    </tr>\n",
              "    <tr>\n",
              "      <th>1</th>\n",
              "      <td>2014-09-09</td>\n",
              "      <td>99.080002</td>\n",
              "      <td>103.080002</td>\n",
              "      <td>96.139999</td>\n",
              "      <td>97.989998</td>\n",
              "      <td>89.915321</td>\n",
              "      <td>189846300</td>\n",
              "    </tr>\n",
              "    <tr>\n",
              "      <th>2</th>\n",
              "      <td>2014-09-10</td>\n",
              "      <td>98.010002</td>\n",
              "      <td>101.110001</td>\n",
              "      <td>97.760002</td>\n",
              "      <td>101.000000</td>\n",
              "      <td>92.677299</td>\n",
              "      <td>100869600</td>\n",
              "    </tr>\n",
              "    <tr>\n",
              "      <th>3</th>\n",
              "      <td>2014-09-11</td>\n",
              "      <td>100.410004</td>\n",
              "      <td>101.440002</td>\n",
              "      <td>99.620003</td>\n",
              "      <td>101.430000</td>\n",
              "      <td>93.071877</td>\n",
              "      <td>62353100</td>\n",
              "    </tr>\n",
              "    <tr>\n",
              "      <th>4</th>\n",
              "      <td>2014-09-12</td>\n",
              "      <td>101.209999</td>\n",
              "      <td>102.190002</td>\n",
              "      <td>101.080002</td>\n",
              "      <td>101.660004</td>\n",
              "      <td>93.282913</td>\n",
              "      <td>62626100</td>\n",
              "    </tr>\n",
              "  </tbody>\n",
              "</table>\n",
              "</div>"
            ],
            "text/plain": [
              "        Date        Open        High  ...       Close  Adj Close     Volume\n",
              "0 2014-09-08   99.300003   99.309998  ...   98.360001  90.254837   46356700\n",
              "1 2014-09-09   99.080002  103.080002  ...   97.989998  89.915321  189846300\n",
              "2 2014-09-10   98.010002  101.110001  ...  101.000000  92.677299  100869600\n",
              "3 2014-09-11  100.410004  101.440002  ...  101.430000  93.071877   62353100\n",
              "4 2014-09-12  101.209999  102.190002  ...  101.660004  93.282913   62626100\n",
              "\n",
              "[5 rows x 7 columns]"
            ]
          },
          "metadata": {
            "tags": []
          },
          "execution_count": 9
        }
      ]
    },
    {
      "cell_type": "code",
      "metadata": {
        "id": "fmMZ0GIW4tm8",
        "colab_type": "code",
        "colab": {
          "base_uri": "https://localhost:8080/",
          "height": 204
        },
        "outputId": "29d95119-f3e2-4c28-d7a2-b8ec8f455206"
      },
      "source": [
        "df_new=df_new.drop(['Date', 'Adj Close'], axis=1)\n",
        "df_new.head()"
      ],
      "execution_count": 10,
      "outputs": [
        {
          "output_type": "execute_result",
          "data": {
            "text/html": [
              "<div>\n",
              "<style scoped>\n",
              "    .dataframe tbody tr th:only-of-type {\n",
              "        vertical-align: middle;\n",
              "    }\n",
              "\n",
              "    .dataframe tbody tr th {\n",
              "        vertical-align: top;\n",
              "    }\n",
              "\n",
              "    .dataframe thead th {\n",
              "        text-align: right;\n",
              "    }\n",
              "</style>\n",
              "<table border=\"1\" class=\"dataframe\">\n",
              "  <thead>\n",
              "    <tr style=\"text-align: right;\">\n",
              "      <th></th>\n",
              "      <th>Open</th>\n",
              "      <th>High</th>\n",
              "      <th>Low</th>\n",
              "      <th>Close</th>\n",
              "      <th>Volume</th>\n",
              "    </tr>\n",
              "  </thead>\n",
              "  <tbody>\n",
              "    <tr>\n",
              "      <th>0</th>\n",
              "      <td>99.300003</td>\n",
              "      <td>99.309998</td>\n",
              "      <td>98.050003</td>\n",
              "      <td>98.360001</td>\n",
              "      <td>46356700</td>\n",
              "    </tr>\n",
              "    <tr>\n",
              "      <th>1</th>\n",
              "      <td>99.080002</td>\n",
              "      <td>103.080002</td>\n",
              "      <td>96.139999</td>\n",
              "      <td>97.989998</td>\n",
              "      <td>189846300</td>\n",
              "    </tr>\n",
              "    <tr>\n",
              "      <th>2</th>\n",
              "      <td>98.010002</td>\n",
              "      <td>101.110001</td>\n",
              "      <td>97.760002</td>\n",
              "      <td>101.000000</td>\n",
              "      <td>100869600</td>\n",
              "    </tr>\n",
              "    <tr>\n",
              "      <th>3</th>\n",
              "      <td>100.410004</td>\n",
              "      <td>101.440002</td>\n",
              "      <td>99.620003</td>\n",
              "      <td>101.430000</td>\n",
              "      <td>62353100</td>\n",
              "    </tr>\n",
              "    <tr>\n",
              "      <th>4</th>\n",
              "      <td>101.209999</td>\n",
              "      <td>102.190002</td>\n",
              "      <td>101.080002</td>\n",
              "      <td>101.660004</td>\n",
              "      <td>62626100</td>\n",
              "    </tr>\n",
              "  </tbody>\n",
              "</table>\n",
              "</div>"
            ],
            "text/plain": [
              "         Open        High         Low       Close     Volume\n",
              "0   99.300003   99.309998   98.050003   98.360001   46356700\n",
              "1   99.080002  103.080002   96.139999   97.989998  189846300\n",
              "2   98.010002  101.110001   97.760002  101.000000  100869600\n",
              "3  100.410004  101.440002   99.620003  101.430000   62353100\n",
              "4  101.209999  102.190002  101.080002  101.660004   62626100"
            ]
          },
          "metadata": {
            "tags": []
          },
          "execution_count": 10
        }
      ]
    },
    {
      "cell_type": "code",
      "metadata": {
        "id": "k3nzsG1Q4tm-",
        "colab_type": "code",
        "colab": {
          "base_uri": "https://localhost:8080/",
          "height": 34
        },
        "outputId": "1f948d44-c70b-4f47-b360-95540f47b766"
      },
      "source": [
        "df_new.shape"
      ],
      "execution_count": 11,
      "outputs": [
        {
          "output_type": "execute_result",
          "data": {
            "text/plain": [
              "(1259, 5)"
            ]
          },
          "metadata": {
            "tags": []
          },
          "execution_count": 11
        }
      ]
    },
    {
      "cell_type": "markdown",
      "metadata": {
        "id": "GGnovfeHFUpG",
        "colab_type": "text"
      },
      "source": [
        "## Check for null values"
      ]
    },
    {
      "cell_type": "code",
      "metadata": {
        "id": "AoSkpM964tnF",
        "colab_type": "code",
        "colab": {
          "base_uri": "https://localhost:8080/",
          "height": 119
        },
        "outputId": "bbd46195-3300-43be-a741-80048b49271b"
      },
      "source": [
        "df_new.isnull().sum()"
      ],
      "execution_count": 12,
      "outputs": [
        {
          "output_type": "execute_result",
          "data": {
            "text/plain": [
              "Open      0\n",
              "High      0\n",
              "Low       0\n",
              "Close     0\n",
              "Volume    0\n",
              "dtype: int64"
            ]
          },
          "metadata": {
            "tags": []
          },
          "execution_count": 12
        }
      ]
    },
    {
      "cell_type": "markdown",
      "metadata": {
        "colab_type": "text",
        "id": "NrDiUfTmKylB"
      },
      "source": [
        "## Normalize values"
      ]
    },
    {
      "cell_type": "code",
      "metadata": {
        "colab_type": "code",
        "id": "5YnFc-2FKylD",
        "colab": {}
      },
      "source": [
        "#ZScore for Numeric columns\n",
        "def Z_score(column):\n",
        "    df_new[column] = zscore(df_new[column])"
      ],
      "execution_count": 0,
      "outputs": []
    },
    {
      "cell_type": "code",
      "metadata": {
        "colab_type": "code",
        "id": "PMPT2RffKylG",
        "colab": {}
      },
      "source": [
        "num_col_zscore = ['Open','High','Low','Volume']\n",
        "for i in num_col_zscore:\n",
        "    Z_score(i)"
      ],
      "execution_count": 0,
      "outputs": []
    },
    {
      "cell_type": "code",
      "metadata": {
        "colab_type": "code",
        "id": "cIO8suZcKylL",
        "outputId": "76204be2-a1e0-44e4-d57e-68b97a9c8670",
        "colab": {
          "base_uri": "https://localhost:8080/",
          "height": 204
        }
      },
      "source": [
        "df_new.head()"
      ],
      "execution_count": 15,
      "outputs": [
        {
          "output_type": "execute_result",
          "data": {
            "text/html": [
              "<div>\n",
              "<style scoped>\n",
              "    .dataframe tbody tr th:only-of-type {\n",
              "        vertical-align: middle;\n",
              "    }\n",
              "\n",
              "    .dataframe tbody tr th {\n",
              "        vertical-align: top;\n",
              "    }\n",
              "\n",
              "    .dataframe thead th {\n",
              "        text-align: right;\n",
              "    }\n",
              "</style>\n",
              "<table border=\"1\" class=\"dataframe\">\n",
              "  <thead>\n",
              "    <tr style=\"text-align: right;\">\n",
              "      <th></th>\n",
              "      <th>Open</th>\n",
              "      <th>High</th>\n",
              "      <th>Low</th>\n",
              "      <th>Close</th>\n",
              "      <th>Volume</th>\n",
              "    </tr>\n",
              "  </thead>\n",
              "  <tbody>\n",
              "    <tr>\n",
              "      <th>0</th>\n",
              "      <td>-1.232139</td>\n",
              "      <td>-1.254421</td>\n",
              "      <td>-1.242123</td>\n",
              "      <td>98.360001</td>\n",
              "      <td>0.452465</td>\n",
              "    </tr>\n",
              "    <tr>\n",
              "      <th>1</th>\n",
              "      <td>-1.238028</td>\n",
              "      <td>-1.154473</td>\n",
              "      <td>-1.293695</td>\n",
              "      <td>97.989998</td>\n",
              "      <td>7.980980</td>\n",
              "    </tr>\n",
              "    <tr>\n",
              "      <th>2</th>\n",
              "      <td>-1.266670</td>\n",
              "      <td>-1.206700</td>\n",
              "      <td>-1.249953</td>\n",
              "      <td>101.000000</td>\n",
              "      <td>3.312611</td>\n",
              "    </tr>\n",
              "    <tr>\n",
              "      <th>3</th>\n",
              "      <td>-1.202426</td>\n",
              "      <td>-1.197952</td>\n",
              "      <td>-1.199732</td>\n",
              "      <td>101.430000</td>\n",
              "      <td>1.291753</td>\n",
              "    </tr>\n",
              "    <tr>\n",
              "      <th>4</th>\n",
              "      <td>-1.181011</td>\n",
              "      <td>-1.178068</td>\n",
              "      <td>-1.160311</td>\n",
              "      <td>101.660004</td>\n",
              "      <td>1.306077</td>\n",
              "    </tr>\n",
              "  </tbody>\n",
              "</table>\n",
              "</div>"
            ],
            "text/plain": [
              "       Open      High       Low       Close    Volume\n",
              "0 -1.232139 -1.254421 -1.242123   98.360001  0.452465\n",
              "1 -1.238028 -1.154473 -1.293695   97.989998  7.980980\n",
              "2 -1.266670 -1.206700 -1.249953  101.000000  3.312611\n",
              "3 -1.202426 -1.197952 -1.199732  101.430000  1.291753\n",
              "4 -1.181011 -1.178068 -1.160311  101.660004  1.306077"
            ]
          },
          "metadata": {
            "tags": []
          },
          "execution_count": 15
        }
      ]
    },
    {
      "cell_type": "markdown",
      "metadata": {
        "id": "J08mWFnuFaTs",
        "colab_type": "text"
      },
      "source": [
        "## Create x and y values for training"
      ]
    },
    {
      "cell_type": "code",
      "metadata": {
        "id": "5I2T7cDq4tnS",
        "colab_type": "code",
        "colab": {}
      },
      "source": [
        "df_input = df_new[['Open','High','Low','Volume']]"
      ],
      "execution_count": 0,
      "outputs": []
    },
    {
      "cell_type": "code",
      "metadata": {
        "id": "bvoiGpjX4tnT",
        "colab_type": "code",
        "colab": {
          "base_uri": "https://localhost:8080/",
          "height": 204
        },
        "outputId": "496d05f0-12f9-4b59-97c4-06b4f42bd89a"
      },
      "source": [
        "df_input.head()"
      ],
      "execution_count": 17,
      "outputs": [
        {
          "output_type": "execute_result",
          "data": {
            "text/html": [
              "<div>\n",
              "<style scoped>\n",
              "    .dataframe tbody tr th:only-of-type {\n",
              "        vertical-align: middle;\n",
              "    }\n",
              "\n",
              "    .dataframe tbody tr th {\n",
              "        vertical-align: top;\n",
              "    }\n",
              "\n",
              "    .dataframe thead th {\n",
              "        text-align: right;\n",
              "    }\n",
              "</style>\n",
              "<table border=\"1\" class=\"dataframe\">\n",
              "  <thead>\n",
              "    <tr style=\"text-align: right;\">\n",
              "      <th></th>\n",
              "      <th>Open</th>\n",
              "      <th>High</th>\n",
              "      <th>Low</th>\n",
              "      <th>Volume</th>\n",
              "    </tr>\n",
              "  </thead>\n",
              "  <tbody>\n",
              "    <tr>\n",
              "      <th>0</th>\n",
              "      <td>-1.232139</td>\n",
              "      <td>-1.254421</td>\n",
              "      <td>-1.242123</td>\n",
              "      <td>0.452465</td>\n",
              "    </tr>\n",
              "    <tr>\n",
              "      <th>1</th>\n",
              "      <td>-1.238028</td>\n",
              "      <td>-1.154473</td>\n",
              "      <td>-1.293695</td>\n",
              "      <td>7.980980</td>\n",
              "    </tr>\n",
              "    <tr>\n",
              "      <th>2</th>\n",
              "      <td>-1.266670</td>\n",
              "      <td>-1.206700</td>\n",
              "      <td>-1.249953</td>\n",
              "      <td>3.312611</td>\n",
              "    </tr>\n",
              "    <tr>\n",
              "      <th>3</th>\n",
              "      <td>-1.202426</td>\n",
              "      <td>-1.197952</td>\n",
              "      <td>-1.199732</td>\n",
              "      <td>1.291753</td>\n",
              "    </tr>\n",
              "    <tr>\n",
              "      <th>4</th>\n",
              "      <td>-1.181011</td>\n",
              "      <td>-1.178068</td>\n",
              "      <td>-1.160311</td>\n",
              "      <td>1.306077</td>\n",
              "    </tr>\n",
              "  </tbody>\n",
              "</table>\n",
              "</div>"
            ],
            "text/plain": [
              "       Open      High       Low    Volume\n",
              "0 -1.232139 -1.254421 -1.242123  0.452465\n",
              "1 -1.238028 -1.154473 -1.293695  7.980980\n",
              "2 -1.266670 -1.206700 -1.249953  3.312611\n",
              "3 -1.202426 -1.197952 -1.199732  1.291753\n",
              "4 -1.181011 -1.178068 -1.160311  1.306077"
            ]
          },
          "metadata": {
            "tags": []
          },
          "execution_count": 17
        }
      ]
    },
    {
      "cell_type": "code",
      "metadata": {
        "id": "g1lSYFx34tnV",
        "colab_type": "code",
        "colab": {}
      },
      "source": [
        "df_output = df_new['Close']"
      ],
      "execution_count": 0,
      "outputs": []
    },
    {
      "cell_type": "code",
      "metadata": {
        "id": "S8dYqjaj4tnX",
        "colab_type": "code",
        "colab": {
          "base_uri": "https://localhost:8080/",
          "height": 119
        },
        "outputId": "beef9910-f53c-49d8-cde9-f592a72b758e"
      },
      "source": [
        "df_output.head()"
      ],
      "execution_count": 19,
      "outputs": [
        {
          "output_type": "execute_result",
          "data": {
            "text/plain": [
              "0     98.360001\n",
              "1     97.989998\n",
              "2    101.000000\n",
              "3    101.430000\n",
              "4    101.660004\n",
              "Name: Close, dtype: float64"
            ]
          },
          "metadata": {
            "tags": []
          },
          "execution_count": 19
        }
      ]
    },
    {
      "cell_type": "markdown",
      "metadata": {
        "id": "6iwQm1IqFgXZ",
        "colab_type": "text"
      },
      "source": [
        "## Create numpy arrays of input values and output"
      ]
    },
    {
      "cell_type": "code",
      "metadata": {
        "id": "YBLuki5Z4tnZ",
        "colab_type": "code",
        "colab": {}
      },
      "source": [
        "##create numpy arrays of input values and output"
      ],
      "execution_count": 0,
      "outputs": []
    },
    {
      "cell_type": "code",
      "metadata": {
        "id": "lM6KD5Fj4tnd",
        "colab_type": "code",
        "colab": {}
      },
      "source": [
        "x = df_input.values"
      ],
      "execution_count": 0,
      "outputs": []
    },
    {
      "cell_type": "code",
      "metadata": {
        "id": "rIFxnSwz4tnf",
        "colab_type": "code",
        "colab": {}
      },
      "source": [
        "y=df_output.values"
      ],
      "execution_count": 0,
      "outputs": []
    },
    {
      "cell_type": "markdown",
      "metadata": {
        "id": "gHLTmDLtFkQQ",
        "colab_type": "text"
      },
      "source": [
        "## spliting data for training and testing using train_test_split"
      ]
    },
    {
      "cell_type": "code",
      "metadata": {
        "id": "TsKyznn44tnh",
        "colab_type": "code",
        "colab": {}
      },
      "source": [
        "## spliting data for training and testing"
      ],
      "execution_count": 0,
      "outputs": []
    },
    {
      "cell_type": "code",
      "metadata": {
        "id": "wTSC1Kta4tnj",
        "colab_type": "code",
        "colab": {}
      },
      "source": [
        "x_train,x_test,y_train,y_test = train_test_split(x,y,test_size=0.3,random_state=42)"
      ],
      "execution_count": 0,
      "outputs": []
    },
    {
      "cell_type": "code",
      "metadata": {
        "id": "sVYIdtOK4tnl",
        "colab_type": "code",
        "colab": {
          "base_uri": "https://localhost:8080/",
          "height": 34
        },
        "outputId": "89e84cbc-ffae-4fbb-c113-25afaf50f03a"
      },
      "source": [
        "x_train.shape"
      ],
      "execution_count": 25,
      "outputs": [
        {
          "output_type": "execute_result",
          "data": {
            "text/plain": [
              "(881, 4)"
            ]
          },
          "metadata": {
            "tags": []
          },
          "execution_count": 25
        }
      ]
    },
    {
      "cell_type": "code",
      "metadata": {
        "id": "vLr8PTwA4tnp",
        "colab_type": "code",
        "colab": {
          "base_uri": "https://localhost:8080/",
          "height": 34
        },
        "outputId": "06710c98-83ed-49c9-916f-cc55b84664ef"
      },
      "source": [
        "y_train.shape"
      ],
      "execution_count": 26,
      "outputs": [
        {
          "output_type": "execute_result",
          "data": {
            "text/plain": [
              "(881,)"
            ]
          },
          "metadata": {
            "tags": []
          },
          "execution_count": 26
        }
      ]
    },
    {
      "cell_type": "code",
      "metadata": {
        "id": "LYV-lvMv4tnr",
        "colab_type": "code",
        "colab": {
          "base_uri": "https://localhost:8080/",
          "height": 34
        },
        "outputId": "910b9b73-b7fa-4cb2-cb58-6b3c593a2906"
      },
      "source": [
        "x_test.shape"
      ],
      "execution_count": 27,
      "outputs": [
        {
          "output_type": "execute_result",
          "data": {
            "text/plain": [
              "(378, 4)"
            ]
          },
          "metadata": {
            "tags": []
          },
          "execution_count": 27
        }
      ]
    },
    {
      "cell_type": "code",
      "metadata": {
        "id": "Xlu0Wg6z4tns",
        "colab_type": "code",
        "colab": {
          "base_uri": "https://localhost:8080/",
          "height": 34
        },
        "outputId": "e6e180a6-07a2-4327-c286-829c16176893"
      },
      "source": [
        "y_train.shape"
      ],
      "execution_count": 28,
      "outputs": [
        {
          "output_type": "execute_result",
          "data": {
            "text/plain": [
              "(881,)"
            ]
          },
          "metadata": {
            "tags": []
          },
          "execution_count": 28
        }
      ]
    },
    {
      "cell_type": "markdown",
      "metadata": {
        "id": "3PGpyc334tnu",
        "colab_type": "text"
      },
      "source": [
        "## Linear Regression"
      ]
    },
    {
      "cell_type": "code",
      "metadata": {
        "id": "rHPxFMgz4tnu",
        "colab_type": "code",
        "colab": {
          "base_uri": "https://localhost:8080/",
          "height": 34
        },
        "outputId": "51d103e3-5124-489b-f0e0-4ca78b2babf3"
      },
      "source": [
        "from sklearn import linear_model\n",
        "from sklearn.metrics import mean_squared_error, r2_score\n",
        "\n",
        "# Create linear regression object\n",
        "stock_regr = linear_model.LinearRegression()\n",
        "\n",
        "# Fit regression model to the training set\n",
        "stock_regr.fit(x_train, y_train)"
      ],
      "execution_count": 29,
      "outputs": [
        {
          "output_type": "execute_result",
          "data": {
            "text/plain": [
              "LinearRegression(copy_X=True, fit_intercept=True, n_jobs=None, normalize=False)"
            ]
          },
          "metadata": {
            "tags": []
          },
          "execution_count": 29
        }
      ]
    },
    {
      "cell_type": "code",
      "metadata": {
        "id": "SS0CHDJx4tnx",
        "colab_type": "code",
        "colab": {}
      },
      "source": [
        "y_pred = stock_regr.predict(x_test)"
      ],
      "execution_count": 0,
      "outputs": []
    },
    {
      "cell_type": "markdown",
      "metadata": {
        "id": "SMczteBDFrVD",
        "colab_type": "text"
      },
      "source": [
        "## Model evaluation"
      ]
    },
    {
      "cell_type": "code",
      "metadata": {
        "id": "X92fW8kb4tny",
        "colab_type": "code",
        "colab": {
          "base_uri": "https://localhost:8080/",
          "height": 51
        },
        "outputId": "47e67ea2-15b2-4c1e-ff11-c45a430ddff4"
      },
      "source": [
        "# Model evaluation\n",
        "print(\"Root mean squared error = %.4f\" % np.sqrt(mean_squared_error(y_test, y_pred)))\n",
        "print('R-squared = %.4f' % r2_score(y_test, y_pred))"
      ],
      "execution_count": 31,
      "outputs": [
        {
          "output_type": "stream",
          "text": [
            "Root mean squared error = 0.7183\n",
            "R-squared = 0.9996\n"
          ],
          "name": "stdout"
        }
      ]
    },
    {
      "cell_type": "code",
      "metadata": {
        "id": "o-1dQePs4tn0",
        "colab_type": "code",
        "colab": {
          "base_uri": "https://localhost:8080/",
          "height": 187
        },
        "outputId": "8c585151-95e8-40de-88e3-c86045b8fe96"
      },
      "source": [
        "for i in range(10):\n",
        "    print(\"True_price:\",y_test[i], \"Predicted_price:\",y_pred[i])"
      ],
      "execution_count": 32,
      "outputs": [
        {
          "output_type": "stream",
          "text": [
            "True_price: 112.010002 Predicted_price: 112.39034331858623\n",
            "True_price: 232.07000699999998 Predicted_price: 232.43720239738178\n",
            "True_price: 108.699997 Predicted_price: 108.20913294689903\n",
            "True_price: 146.580002 Predicted_price: 146.66802951072316\n",
            "True_price: 117.339996 Predicted_price: 117.43413971157685\n",
            "True_price: 118.629997 Predicted_price: 117.38779563191716\n",
            "True_price: 178.240005 Predicted_price: 178.35337580380252\n",
            "True_price: 202.58999599999999 Predicted_price: 203.70870366751814\n",
            "True_price: 155.300003 Predicted_price: 155.12301451954679\n",
            "True_price: 93.400002 Predicted_price: 94.03513643137487\n"
          ],
          "name": "stdout"
        }
      ]
    },
    {
      "cell_type": "code",
      "metadata": {
        "colab_type": "code",
        "outputId": "2e8cacf2-c292-41fb-cdfe-bdfe06dbd928",
        "id": "dYfeV0XPCd9G",
        "colab": {
          "base_uri": "https://localhost:8080/",
          "height": 51
        }
      },
      "source": [
        "# Display model parameters\n",
        "print('Slope = ', stock_regr.coef_)\n",
        "print('Intercept = ', stock_regr.intercept_)"
      ],
      "execution_count": 33,
      "outputs": [
        {
          "output_type": "stream",
          "text": [
            "Slope =  [-20.66393389  30.04811067  27.95129932  -0.07688911]\n",
            "Intercept =  145.382965396411\n"
          ],
          "name": "stdout"
        }
      ]
    },
    {
      "cell_type": "code",
      "metadata": {
        "colab_type": "code",
        "outputId": "86494e60-5ed4-4752-d360-d360373d97f0",
        "id": "N5cVwsfCCd9M",
        "colab": {
          "base_uri": "https://localhost:8080/",
          "height": 269
        }
      },
      "source": [
        "# Graph the regression model to see the relationship between the predicted and expected values\n",
        "chart_regression(y_pred,y_test)"
      ],
      "execution_count": 34,
      "outputs": [
        {
          "output_type": "display_data",
          "data": {
            "image/png": "[encoded data removed]",
            "text/plain": [
              "<Figure size 432x288 with 1 Axes>"
            ]
          },
          "metadata": {
            "tags": []
          }
        }
      ]
    },
    {
      "cell_type": "markdown",
      "metadata": {
        "id": "8CWjaKKv4tn2",
        "colab_type": "text"
      },
      "source": [
        "## Lasso Regression"
      ]
    },
    {
      "cell_type": "code",
      "metadata": {
        "id": "kTtyVTP04tn4",
        "colab_type": "code",
        "colab": {
          "base_uri": "https://localhost:8080/",
          "height": 68
        },
        "outputId": "866bb38b-4339-491d-a339-d5b05355d5fe"
      },
      "source": [
        "from sklearn import linear_model\n",
        "clf = linear_model.Lasso(alpha=0.1)\n",
        "clf.fit(x_train, y_train)"
      ],
      "execution_count": 35,
      "outputs": [
        {
          "output_type": "execute_result",
          "data": {
            "text/plain": [
              "Lasso(alpha=0.1, copy_X=True, fit_intercept=True, max_iter=1000,\n",
              "      normalize=False, positive=False, precompute=False, random_state=None,\n",
              "      selection='cyclic', tol=0.0001, warm_start=False)"
            ]
          },
          "metadata": {
            "tags": []
          },
          "execution_count": 35
        }
      ]
    },
    {
      "cell_type": "code",
      "metadata": {
        "id": "r7fysgzQ4tn6",
        "colab_type": "code",
        "colab": {}
      },
      "source": [
        "y_pred = clf.predict(x_test)"
      ],
      "execution_count": 0,
      "outputs": []
    },
    {
      "cell_type": "markdown",
      "metadata": {
        "id": "2h33Tg3rFwc1",
        "colab_type": "text"
      },
      "source": [
        "## Model Evaluation"
      ]
    },
    {
      "cell_type": "code",
      "metadata": {
        "id": "BFHq3r9L4tn8",
        "colab_type": "code",
        "colab": {
          "base_uri": "https://localhost:8080/",
          "height": 51
        },
        "outputId": "5531438b-7b6c-4f0f-f731-c1a5bc123c51"
      },
      "source": [
        "# Model evaluation\n",
        "print(\"Root mean squared error = %.4f\" % np.sqrt(mean_squared_error(y_test, y_pred)))\n",
        "print('R-squared = %.4f' % r2_score(y_test, y_pred))"
      ],
      "execution_count": 37,
      "outputs": [
        {
          "output_type": "stream",
          "text": [
            "Root mean squared error = 1.0412\n",
            "R-squared = 0.9992\n"
          ],
          "name": "stdout"
        }
      ]
    },
    {
      "cell_type": "code",
      "metadata": {
        "id": "YEeVK-zD4tn-",
        "colab_type": "code",
        "colab": {
          "base_uri": "https://localhost:8080/",
          "height": 187
        },
        "outputId": "ef551638-4cb1-40f9-f309-981362ee37a5"
      },
      "source": [
        "for i in range(10):\n",
        "    print(\"True_price:\",y_test[i], \"Predicted_price:\",y_pred[i])"
      ],
      "execution_count": 38,
      "outputs": [
        {
          "output_type": "stream",
          "text": [
            "True_price: 112.010002 Predicted_price: 112.67688133192038\n",
            "True_price: 232.07000699999998 Predicted_price: 231.12375555051855\n",
            "True_price: 108.699997 Predicted_price: 108.40589848025868\n",
            "True_price: 146.580002 Predicted_price: 146.01625727212604\n",
            "True_price: 117.339996 Predicted_price: 117.37445949444239\n",
            "True_price: 118.629997 Predicted_price: 117.69676372025714\n",
            "True_price: 178.240005 Predicted_price: 177.4768129264371\n",
            "True_price: 202.58999599999999 Predicted_price: 204.68419613955965\n",
            "True_price: 155.300003 Predicted_price: 154.93514521399865\n",
            "True_price: 93.400002 Predicted_price: 93.3967112184468\n"
          ],
          "name": "stdout"
        }
      ]
    },
    {
      "cell_type": "code",
      "metadata": {
        "colab_type": "code",
        "outputId": "5303b2d1-a895-4f85-ff69-ceaf6ccd9085",
        "id": "hunZI2szCf3S",
        "colab": {
          "base_uri": "https://localhost:8080/",
          "height": 51
        }
      },
      "source": [
        "# Display model parameters\n",
        "print('Slope = ', clf.coef_)\n",
        "print('Intercept = ', clf.intercept_)"
      ],
      "execution_count": 39,
      "outputs": [
        {
          "output_type": "stream",
          "text": [
            "Slope =  [ 3.73255764 25.05562414  8.40001987 -0.29260851]\n",
            "Intercept =  145.38886161085162\n"
          ],
          "name": "stdout"
        }
      ]
    },
    {
      "cell_type": "code",
      "metadata": {
        "colab_type": "code",
        "outputId": "ddf0a45b-ea6e-4949-b7f2-458854649591",
        "id": "sCF9rmINCf3V",
        "colab": {
          "base_uri": "https://localhost:8080/",
          "height": 269
        }
      },
      "source": [
        "# Graph the regression model to see the relationship between the predicted and expected values\n",
        "chart_regression(y_pred,y_test)"
      ],
      "execution_count": 40,
      "outputs": [
        {
          "output_type": "display_data",
          "data": {
            "image/png": "[encoded data removed]",
            "text/plain": [
              "<Figure size 432x288 with 1 Axes>"
            ]
          },
          "metadata": {
            "tags": []
          }
        }
      ]
    },
    {
      "cell_type": "markdown",
      "metadata": {
        "id": "sOA_c7Fl4toB",
        "colab_type": "text"
      },
      "source": [
        "## Ridge Regression"
      ]
    },
    {
      "cell_type": "code",
      "metadata": {
        "id": "pGC6WwrT4toC",
        "colab_type": "code",
        "colab": {
          "base_uri": "https://localhost:8080/",
          "height": 51
        },
        "outputId": "e89fad89-956a-4a51-cedd-9ac295807d75"
      },
      "source": [
        "from sklearn.linear_model import Ridge\n",
        "clf_ridge = Ridge(alpha=1.0)\n",
        "\n",
        "clf_ridge.fit(x_train, y_train) "
      ],
      "execution_count": 41,
      "outputs": [
        {
          "output_type": "execute_result",
          "data": {
            "text/plain": [
              "Ridge(alpha=1.0, copy_X=True, fit_intercept=True, max_iter=None,\n",
              "      normalize=False, random_state=None, solver='auto', tol=0.001)"
            ]
          },
          "metadata": {
            "tags": []
          },
          "execution_count": 41
        }
      ]
    },
    {
      "cell_type": "code",
      "metadata": {
        "id": "uLEvNa1n4toF",
        "colab_type": "code",
        "colab": {}
      },
      "source": [
        "y_pred = clf_ridge.predict(x_test)"
      ],
      "execution_count": 0,
      "outputs": []
    },
    {
      "cell_type": "markdown",
      "metadata": {
        "id": "rsf05qIYF0Tk",
        "colab_type": "text"
      },
      "source": [
        "## Model Evaluation"
      ]
    },
    {
      "cell_type": "code",
      "metadata": {
        "id": "elHt0JXz4toI",
        "colab_type": "code",
        "colab": {
          "base_uri": "https://localhost:8080/",
          "height": 51
        },
        "outputId": "9f66db7f-3ccb-4e2c-b7b6-8d436d8ddf21"
      },
      "source": [
        "# Model evaluation\n",
        "print(\"Root mean squared error = %.4f\" % np.sqrt(mean_squared_error(y_test, y_pred)))\n",
        "print('R-squared = %.4f' % r2_score(y_test, y_pred))"
      ],
      "execution_count": 43,
      "outputs": [
        {
          "output_type": "stream",
          "text": [
            "Root mean squared error = 0.9864\n",
            "R-squared = 0.9993\n"
          ],
          "name": "stdout"
        }
      ]
    },
    {
      "cell_type": "code",
      "metadata": {
        "id": "LdOLvpFp_6Td",
        "colab_type": "code",
        "colab": {
          "base_uri": "https://localhost:8080/",
          "height": 329
        },
        "outputId": "8246e1f0-7e64-4df5-f415-5b489f821a08"
      },
      "source": [
        "# Comparing true versus predicted values\n",
        "plt.scatter(y_test, y_pred, color='black')\n",
        "plt.title('Comparing true and predicted values for test set')\n",
        "plt.xlabel('True values for displacement')\n",
        "plt.ylabel('Predicted values for displacement')\n",
        "\n",
        "# Model evaluation\n",
        "print(\"Root mean squared error = %.4f\" % np.sqrt(mean_squared_error(y_test, y_pred)))\n",
        "print('R-squared = %.4f' % r2_score(y_test, y_pred))"
      ],
      "execution_count": 44,
      "outputs": [
        {
          "output_type": "stream",
          "text": [
            "Root mean squared error = 0.9864\n",
            "R-squared = 0.9993\n"
          ],
          "name": "stdout"
        },
        {
          "output_type": "display_data",
          "data": {
            "image/png": "[encoded data removed]",
            "text/plain": [
              "<Figure size 432x288 with 1 Axes>"
            ]
          },
          "metadata": {
            "tags": []
          }
        }
      ]
    },
    {
      "cell_type": "code",
      "metadata": {
        "id": "34Gj_j20Am_1",
        "colab_type": "code",
        "colab": {
          "base_uri": "https://localhost:8080/",
          "height": 51
        },
        "outputId": "fca39f11-4db7-476b-900e-1e5f3d6f08f7"
      },
      "source": [
        "# Display model parameters\n",
        "print('Slope = ', clf_ridge.coef_)\n",
        "print('Intercept = ', clf_ridge.intercept_)"
      ],
      "execution_count": 45,
      "outputs": [
        {
          "output_type": "stream",
          "text": [
            "Slope =  [ 2.61973489 17.25812765 17.44051237 -0.15117576]\n",
            "Intercept =  145.38792561244514\n"
          ],
          "name": "stdout"
        }
      ]
    },
    {
      "cell_type": "code",
      "metadata": {
        "id": "cyK8ToaFB-Sw",
        "colab_type": "code",
        "colab": {
          "base_uri": "https://localhost:8080/",
          "height": 269
        },
        "outputId": "7d47226d-5897-4df5-b12a-349d7e107a7a"
      },
      "source": [
        "# Graph the regression model to see the relationship between the predicted and expected values\n",
        "chart_regression(y_pred,y_test)"
      ],
      "execution_count": 46,
      "outputs": [
        {
          "output_type": "display_data",
          "data": {
            "image/png": "[encoded data removed]",
            "text/plain": [
              "<Figure size 432x288 with 1 Axes>"
            ]
          },
          "metadata": {
            "tags": []
          }
        }
      ]
    }
  ]
}